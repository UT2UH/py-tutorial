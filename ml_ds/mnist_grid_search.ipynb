{
 "cells": [
  {
   "cell_type": "markdown",
   "metadata": {},
   "source": [
    "# Перекрестная проверка\n",
    "\n",
    "## поиск гиперпараметров многослойного перцептрона на примере датасета MNIST\n",
    "\n",
    "### Загрузка стандартных библиотек"
   ]
  },
  {
   "cell_type": "code",
   "execution_count": 1,
   "metadata": {},
   "outputs": [],
   "source": [
    "import warnings\n",
    "warnings.filterwarnings('ignore')\n",
    "\n",
    "import numpy as np\n",
    "import matplotlib.pyplot as plt\n",
    "import seaborn as sns\n",
    "\n",
    "sns.set_style()\n",
    "%matplotlib inline\n",
    "plt.rcParams['font.size'] = 14\n",
    "plt.rcParams['lines.linewidth'] = 2.0\n",
    "plt.rcParams['lines.markersize'] = 10.0"
   ]
  },
  {
   "cell_type": "markdown",
   "metadata": {},
   "source": [
    "### Библиотеки машинного обучения: Keras и Scikit-Learn"
   ]
  },
  {
   "cell_type": "code",
   "execution_count": 2,
   "metadata": {},
   "outputs": [
    {
     "name": "stderr",
     "output_type": "stream",
     "text": [
      "Using TensorFlow backend.\n"
     ]
    }
   ],
   "source": [
    "from sklearn.datasets import fetch_openml, load_digits\n",
    "from keras.datasets import mnist\n",
    "\n",
    "from keras.models import Sequential, Model\n",
    "from keras.layers import Activation, Dense, Dropout\n",
    "from keras.utils import to_categorical\n",
    "from keras.optimizers import RMSprop, SGD\n",
    "\n",
    "from sklearn.model_selection import train_test_split\n",
    "from sklearn.metrics import classification_report, confusion_matrix\n",
    "\n",
    "keras_dataset = True\n",
    "random_state = 42"
   ]
  },
  {
   "cell_type": "markdown",
   "metadata": {},
   "source": [
    "### Описание датасета"
   ]
  },
  {
   "cell_type": "code",
   "execution_count": 3,
   "metadata": {},
   "outputs": [
    {
     "name": "stdout",
     "output_type": "stream",
     "text": [
      ".. _digits_dataset:\n",
      "\n",
      "Optical recognition of handwritten digits dataset\n",
      "--------------------------------------------------\n",
      "\n",
      "**Data Set Characteristics:**\n",
      "\n",
      "    :Number of Instances: 5620\n",
      "    :Number of Attributes: 64\n",
      "    :Attribute Information: 8x8 image of integer pixels in the range 0..16.\n",
      "    :Missing Attribute Values: None\n",
      "    :Creator: E. Alpaydin (alpaydin '@' boun.edu.tr)\n",
      "    :Date: July; 1998\n",
      "\n",
      "This is a copy of the test set of the UCI ML hand-written digits datasets\n",
      "https://archive.ics.uci.edu/ml/datasets/Optical+Recognition+of+Handwritten+Digits\n",
      "\n",
      "The data set contains images of hand-written digits: 10 classes where\n",
      "each class refers to a digit.\n",
      "\n",
      "Preprocessing programs made available by NIST were used to extract\n",
      "normalized bitmaps of handwritten digits from a preprinted form. From a\n",
      "total of 43 people, 30 contributed to the training set and different 13\n",
      "to the test set. 32x32 bitmaps are divided into nonoverlapping blocks of\n",
      "4x4 and the number of on pixels are counted in each block. This generates\n",
      "an input matrix of 8x8 where each element is an integer in the range\n",
      "0..16. This reduces dimensionality and gives invariance to small\n",
      "distortions.\n",
      "\n",
      "For info on NIST preprocessing routines, see M. D. Garris, J. L. Blue, G.\n",
      "T. Candela, D. L. Dimmick, J. Geist, P. J. Grother, S. A. Janet, and C.\n",
      "L. Wilson, NIST Form-Based Handprint Recognition System, NISTIR 5469,\n",
      "1994.\n",
      "\n",
      ".. topic:: References\n",
      "\n",
      "  - C. Kaynak (1995) Methods of Combining Multiple Classifiers and Their\n",
      "    Applications to Handwritten Digit Recognition, MSc Thesis, Institute of\n",
      "    Graduate Studies in Science and Engineering, Bogazici University.\n",
      "  - E. Alpaydin, C. Kaynak (1998) Cascading Classifiers, Kybernetika.\n",
      "  - Ken Tang and Ponnuthurai N. Suganthan and Xi Yao and A. Kai Qin.\n",
      "    Linear dimensionalityreduction using relevance weighted LDA. School of\n",
      "    Electrical and Electronic Engineering Nanyang Technological University.\n",
      "    2005.\n",
      "  - Claudio Gentile. A New Approximate Maximal Margin Classification\n",
      "    Algorithm. NIPS. 2000.\n"
     ]
    }
   ],
   "source": [
    "digits = load_digits()\n",
    "print(digits.DESCR)"
   ]
  },
  {
   "cell_type": "markdown",
   "metadata": {},
   "source": [
    "### Загрузка датасета\n",
    "\n",
    "Два способа:\n",
    "- с помощью sklearn\n",
    "- с помощью keras (данные уже разбиты на тренировочный и тестовый наборы)"
   ]
  },
  {
   "cell_type": "code",
   "execution_count": 4,
   "metadata": {},
   "outputs": [],
   "source": [
    "# Load dataset\n",
    "if keras_dataset:\n",
    "    (x_train, y_train), (x_test, y_test) = mnist.load_data()\n",
    "else:\n",
    "    digits = fetch_openml('mnist_784', version=1, cache=True)\n",
    "    X, y = digits.data, digits.target\n",
    "    x_train, x_test, y_train, y_test = train_test_split(X, y, test_size=0.15, random_state=random_state)\n",
    "\n",
    "y_classes = y_test.copy()"
   ]
  },
  {
   "cell_type": "code",
   "execution_count": 5,
   "metadata": {},
   "outputs": [
    {
     "data": {
      "text/plain": [
       "((60000, 28, 28), (10000, 28, 28))"
      ]
     },
     "execution_count": 5,
     "metadata": {},
     "output_type": "execute_result"
    }
   ],
   "source": [
    "# Shapes for train and test\n",
    "x_train.shape, x_test.shape"
   ]
  },
  {
   "cell_type": "markdown",
   "metadata": {},
   "source": [
    "### Изображение - карта признаков"
   ]
  },
  {
   "cell_type": "code",
   "execution_count": 6,
   "metadata": {},
   "outputs": [
    {
     "data": {
      "image/png": "[encoded data removed]",
      "text/plain": [
       "<Figure size 400x400 with 1 Axes>"
      ]
     },
     "metadata": {},
     "output_type": "display_data"
    }
   ],
   "source": [
    "# Plot single digit\n",
    "plt.figure('Some digit', figsize=(4, 4), dpi=100)\n",
    "plt.imshow(x_train[0].reshape(28, 28), cmap='binary')\n",
    "plt.xticks([], [])\n",
    "plt.yticks([], [])\n",
    "plt.grid(False)"
   ]
  },
  {
   "cell_type": "markdown",
   "metadata": {},
   "source": [
    "### Набор рукописных цифр"
   ]
  },
  {
   "cell_type": "code",
   "execution_count": 7,
   "metadata": {},
   "outputs": [
    {
     "data": {
      "image/png": "[encoded data removed]",
      "text/plain": [
       "<Figure size 1400x600 with 24 Axes>"
      ]
     },
     "metadata": {},
     "output_type": "display_data"
    }
   ],
   "source": [
    "if 1:\n",
    "    # Plot some digits\n",
    "    plt.figure('MNIST Dataset', figsize=(14, 6), dpi=100)\n",
    "    for i in range(24):\n",
    "        plt.subplot(4, 6, i+1)\n",
    "        plt.imshow(x_train[i].reshape(28, 28), cmap='binary')\n",
    "        plt.title('Digit: {}'.format(y_train[i]))\n",
    "        plt.grid(False)\n",
    "        plt.xticks([], [])\n",
    "        plt.yticks([], [])\n",
    "    plt.tight_layout()"
   ]
  },
  {
   "cell_type": "markdown",
   "metadata": {},
   "source": [
    "### Подготовка данных\n",
    "\n",
    "- Преобразование размерностей,\n",
    "- Масштабирование признаков (нормализация в диапазон [0, 1]),\n",
    "- Преборазование категориальных меток."
   ]
  },
  {
   "cell_type": "code",
   "execution_count": 8,
   "metadata": {},
   "outputs": [
    {
     "name": "stdout",
     "output_type": "stream",
     "text": [
      "60000 train samples\n",
      "10000 test  samples\n"
     ]
    }
   ],
   "source": [
    "# Prepare data for your model\n",
    "if keras_dataset:\n",
    "    N, M = x_train.shape[1], x_train.shape[2]\n",
    "\n",
    "    x_train = x_train.reshape((60000, N * M))\n",
    "    x_test = x_test.reshape((10000, N * M))\n",
    "\n",
    "\n",
    "x_train = x_train.astype('float32') / 255\n",
    "x_test = x_test.astype('float32') / 255\n",
    "\n",
    "print(x_train.shape[0], 'train samples')\n",
    "print(x_test.shape[0], 'test  samples')\n",
    "\n",
    "# One-hot label encoding\n",
    "y_train = to_categorical(y_train)\n",
    "y_test = to_categorical(y_test)"
   ]
  },
  {
   "cell_type": "markdown",
   "metadata": {},
   "source": [
    "### Использование моделей Keras в Scikit-learn\n",
    "\n",
    "Для этого необходимо определить функцию-обертку `KerasClassifier` или `KerasRegressor` в зависимости от задачи.\n",
    "\n",
    "```python\n",
    "def create_model():\n",
    "\t# ...\n",
    "\treturn model\n",
    " \n",
    "model = KerasClassifier(build_fn=create_model, epochs=50)\n",
    "```\n",
    "\n",
    "Конструктор для `KerasClassifier` может принимать аргументы, используемые в процессе обучения (количество эпох, размер мини-батча и т.д.)\n",
    "\n",
    "Кроме того, конструктор может принимать аргументы в самой модели для задания независимых классификаторов:\n",
    "\n",
    "\n",
    "```python\n",
    "def create_model(dropout_rate=0.5):\n",
    "\t# ...\n",
    "\treturn model\n",
    " \n",
    "model = KerasClassifier(build_fn=create_model, dropout_rate=0.2)\n",
    "```\n",
    "___\n",
    "\n",
    "### GridSearchCV\n",
    "\n",
    "В `sklearn` с помощью перекрестной проверки можно производить поиск гиперпараметров модели. Для этого создается словарь, в который помещаются гиперпараметры и значения, на которых требуется проверить модель. По умолчанию GridSearchCV использует один процессор, но можно установить произвольное значение (в зависимости от используемых ресурсов). Значение `-1` предполагает использование всех ядер системы. \n",
    "\n",
    "GridSearchCV перебирает все возможные варианты и строит модели для каждой комбинации. Процесс обучения использует всю выборку данных, а в качестве разбиения используется кросс-валидация по k-fold. Параметр `cv = 5` устанавливает разбиение датасета на 5 частей.\n",
    "\n",
    "```python\n",
    "param_grid = dict(\n",
    "    epochs = [10, 20, 30],\n",
    "    batch_size = [32, 64, 128]\n",
    ")\n",
    "\n",
    "grid_search = GridSearchCV(\n",
    "    estimator=model, \n",
    "    param_grid=param_grid, \n",
    "    n_jobs=-1, \n",
    "    cv=5\n",
    ")\n",
    "\n",
    "grid_result = grid_search.fit(X, y)\n",
    "```\n",
    "\n",
    "`X` - матрица объекты-признаки, `y` - метки (ответы) выборки.\n",
    "\n",
    "Лучший результат можно найти с помощью методов:\n",
    "- `best_score_` - выдает наилучшие результаты после завершения поиска,\n",
    "- `best_params_` - выдает лучшие значения гипер-параметров.\n"
   ]
  },
  {
   "cell_type": "markdown",
   "metadata": {},
   "source": [
    "## Поиск гиперпараметров\n",
    "\n",
    "### GridSearch: Batch size & epochs\n",
    "\n",
    "Посмотрим, как с помощью `sklearn` и `keras` найти лучшие параметры модели:\n",
    "- `batch_size` - количество выборок (пакетов), проходящих через сеть в процессе обучения (forward propagation)\n",
    "- `number_of_epochs` - количество проходов датасета через нейронную сеть в прямом и обратном направлении.\n"
   ]
  },
  {
   "cell_type": "code",
   "execution_count": 9,
   "metadata": {},
   "outputs": [],
   "source": [
    "from sklearn.model_selection import GridSearchCV\n",
    "from keras.wrappers.scikit_learn import KerasClassifier"
   ]
  },
  {
   "cell_type": "code",
   "execution_count": 10,
   "metadata": {},
   "outputs": [
    {
     "data": {
      "text/plain": [
       "((70000, 784), (70000, 10))"
      ]
     },
     "execution_count": 10,
     "metadata": {},
     "output_type": "execute_result"
    }
   ],
   "source": [
    "digits = fetch_openml('mnist_784', version=1, cache=True)\n",
    "X, y = digits.data, digits.target\n",
    "\n",
    "# Normalize dataset and apply ohe on labels\n",
    "X = X.astype('float32') / 255\n",
    "y = to_categorical(y)\n",
    "\n",
    "X.shape, y.shape"
   ]
  },
  {
   "cell_type": "markdown",
   "metadata": {},
   "source": [
    "### Многослойный перцептрон\n",
    "\n",
    "Для обучения возьмем модель многослойного перцептрона. Зададим несколько полносвязных слоев, а также слои функции активации.\n",
    "\n",
    "- Полносвязный слой\n",
    "- Функция активации ReLU\n",
    "- Полносвязный слой (число нейронов = число классов)\n",
    "- Фунция активации Softmax\n",
    "\n",
    "\n",
    "### Функция потерь и метрики\n",
    "\n",
    "- Функция потерь: категориальная кросс-энтропия,\n",
    "- Метрика: точность (аккуратность),\n",
    "- Алгоритм - RMS Propagation.\n",
    "\n",
    "```python\n",
    "model.compile(\n",
    "    optimizer=RMSprop(),\n",
    "    loss='categorical_crossentropy',\n",
    "    metrics=['accuracy']\n",
    ")\n",
    "```\n",
    "\n",
    "### GridSearch\n",
    "Перекрестную проверку будем делать по количеству эпох и размеру батча:\n",
    "```python\n",
    "# Tuning parameters\n",
    "batch_sizes = [16, 32, 64, 128]\n",
    "epochs = [5, 10]\n",
    "```"
   ]
  },
  {
   "cell_type": "code",
   "execution_count": 11,
   "metadata": {},
   "outputs": [],
   "source": [
    "def create_model():\n",
    "    # NN model\n",
    "    model = Sequential()\n",
    "    model.add(Dense(512, input_shape=(X.shape[1], )))\n",
    "    model.add(Activation('relu'))\n",
    "    model.add(Dense(y.shape[1]))\n",
    "    model.add(Activation('softmax'))\n",
    "    # Set loss, metrics, optimizer\n",
    "    model.compile(loss='categorical_crossentropy', \n",
    "                  optimizer=RMSprop(), \n",
    "                  metrics=['accuracy'])\n",
    "    return model\n",
    "\n",
    "# Create model\n",
    "keras_clf = KerasClassifier(build_fn=create_model, verbose=0)\n",
    "\n",
    "# Tuning parameters\n",
    "batch_sizes = [32, 64, 128]\n",
    "epochs = [5, 10]\n",
    "\n",
    "# GridSearch parameters\n",
    "param_grid = dict(batch_size=batch_sizes, epochs=epochs)\n",
    "\n",
    "grid_search = GridSearchCV(\n",
    "    estimator=keras_clf, \n",
    "    param_grid=param_grid, \n",
    "    verbose=1,\n",
    "    n_jobs=4, \n",
    "    cv=3\n",
    ")"
   ]
  },
  {
   "cell_type": "code",
   "execution_count": 12,
   "metadata": {},
   "outputs": [
    {
     "name": "stdout",
     "output_type": "stream",
     "text": [
      "Fitting 3 folds for each of 6 candidates, totalling 18 fits\n"
     ]
    },
    {
     "name": "stderr",
     "output_type": "stream",
     "text": [
      "[Parallel(n_jobs=4)]: Using backend LokyBackend with 4 concurrent workers.\n",
      "[Parallel(n_jobs=4)]: Done  18 out of  18 | elapsed:  4.7min finished\n"
     ]
    },
    {
     "name": "stdout",
     "output_type": "stream",
     "text": [
      "CPU times: user 2min, sys: 5.8 s, total: 2min 6s\n",
      "Wall time: 5min 18s\n"
     ]
    }
   ],
   "source": [
    "%%time\n",
    "grid_result = grid_search.fit(X, y)"
   ]
  },
  {
   "cell_type": "markdown",
   "metadata": {},
   "source": [
    "### Результаты перекрестной проверки"
   ]
  },
  {
   "cell_type": "code",
   "execution_count": 13,
   "metadata": {},
   "outputs": [
    {
     "name": "stdout",
     "output_type": "stream",
     "text": [
      "Best score: 0.9793 using {'batch_size': 128, 'epochs': 10}\n",
      "\n",
      "Mean: 0.974 Std: 0.000875 with: {'batch_size': 32, 'epochs': 5}\n",
      "Mean: 0.978 Std: 0.001356 with: {'batch_size': 32, 'epochs': 10}\n",
      "Mean: 0.972 Std: 0.002519 with: {'batch_size': 64, 'epochs': 5}\n",
      "Mean: 0.978 Std: 0.000986 with: {'batch_size': 64, 'epochs': 10}\n",
      "Mean: 0.974 Std: 0.000730 with: {'batch_size': 128, 'epochs': 5}\n",
      "Mean: 0.979 Std: 0.000961 with: {'batch_size': 128, 'epochs': 10}\n"
     ]
    }
   ],
   "source": [
    "print(f'Best score: {grid_result.best_score_ :0.4f} using {grid_result.best_params_}\\n')\n",
    "\n",
    "means = grid_result.cv_results_['mean_test_score']\n",
    "stds = grid_result.cv_results_['std_test_score']\n",
    "params = grid_result.cv_results_['params']\n",
    "\n",
    "for m, s, p in zip(means, stds, params):\n",
    "    print(f'Mean: {m :0.3f} Std: {s :0.6f} with: {p}')"
   ]
  },
  {
   "cell_type": "markdown",
   "metadata": {},
   "source": [
    "## Поиск гиперпараметров\n",
    "\n",
    "### GridSearch: optimization algorithm\n",
    "\n",
    "Посмотрим, как с помощью `sklearn` и `keras` найти лучшие параметры модели `optimizer`.\n",
    "\n",
    "```python\n",
    "optimizer = ['SGD', 'RMSprop', 'Adagrad', 'Adadelta', 'Adam', 'Adamax', 'Nadam']\n",
    "```"
   ]
  },
  {
   "cell_type": "code",
   "execution_count": 14,
   "metadata": {},
   "outputs": [],
   "source": [
    "def create_model(optimizer='SGD'):\n",
    "    # NN model\n",
    "    model = Sequential()\n",
    "    model.add(Dense(512, input_shape=(X.shape[1], )))\n",
    "    model.add(Activation('relu'))\n",
    "    model.add(Dense(y.shape[1]))\n",
    "    model.add(Activation('softmax'))\n",
    "    # Set loss, metrics, optimizer\n",
    "    model.compile(loss='categorical_crossentropy', \n",
    "                  optimizer=optimizer, \n",
    "                  metrics=['accuracy'])\n",
    "    return model\n",
    "\n",
    "# Create model\n",
    "keras_clf = KerasClassifier(\n",
    "    build_fn=create_model, \n",
    "    epochs=5, \n",
    "    batch_size=128, \n",
    "    verbose=0\n",
    ")\n",
    "\n",
    "# Tuning parameters\n",
    "optimizer = ['SGD', 'RMSprop', 'Adagrad', 'Adam']\n",
    "\n",
    "# GridSearch parameters\n",
    "param_grid = dict(optimizer=optimizer)\n",
    "\n",
    "grid_search = GridSearchCV(\n",
    "    estimator=keras_clf, \n",
    "    param_grid=param_grid, \n",
    "    verbose=2,\n",
    "    n_jobs=4, \n",
    "    cv=3\n",
    ")"
   ]
  },
  {
   "cell_type": "code",
   "execution_count": 15,
   "metadata": {},
   "outputs": [
    {
     "name": "stdout",
     "output_type": "stream",
     "text": [
      "Fitting 3 folds for each of 4 candidates, totalling 12 fits\n"
     ]
    },
    {
     "name": "stderr",
     "output_type": "stream",
     "text": [
      "[Parallel(n_jobs=4)]: Using backend LokyBackend with 4 concurrent workers.\n",
      "[Parallel(n_jobs=4)]: Done  12 out of  12 | elapsed:  1.2min remaining:    0.0s\n",
      "[Parallel(n_jobs=4)]: Done  12 out of  12 | elapsed:  1.2min finished\n"
     ]
    },
    {
     "name": "stdout",
     "output_type": "stream",
     "text": [
      "CPU times: user 1min, sys: 2.63 s, total: 1min 3s\n",
      "Wall time: 1min 30s\n"
     ]
    }
   ],
   "source": [
    "%%time\n",
    "grid_result = grid_search.fit(X, y)"
   ]
  },
  {
   "cell_type": "markdown",
   "metadata": {},
   "source": [
    "### Результаты перекрестной проверки"
   ]
  },
  {
   "cell_type": "code",
   "execution_count": 16,
   "metadata": {},
   "outputs": [
    {
     "name": "stdout",
     "output_type": "stream",
     "text": [
      "Best score: 0.9755 using {'optimizer': 'RMSprop'}\n",
      "\n",
      "Mean: 0.901 Std: 0.006000 with: {'optimizer': 'SGD'}\n",
      "Mean: 0.975 Std: 0.001291 with: {'optimizer': 'RMSprop'}\n",
      "Mean: 0.970 Std: 0.001192 with: {'optimizer': 'Adagrad'}\n",
      "Mean: 0.974 Std: 0.000530 with: {'optimizer': 'Adam'}\n"
     ]
    }
   ],
   "source": [
    "print(f'Best score: {grid_result.best_score_ :0.4f} using {grid_result.best_params_}\\n')\n",
    "\n",
    "means = grid_result.cv_results_['mean_test_score']\n",
    "stds = grid_result.cv_results_['std_test_score']\n",
    "params = grid_result.cv_results_['params']\n",
    "\n",
    "for m, s, p in zip(means, stds, params):\n",
    "    print(f'Mean: {m :0.3f} Std: {s :0.6f} with: {p}')"
   ]
  },
  {
   "cell_type": "markdown",
   "metadata": {},
   "source": [
    "## Поиск гиперпараметров\n",
    "\n",
    "### GridSearch: learning rate\n",
    "\n",
    "Посмотрим, как с помощью `sklearn` и `keras` найти лучшие параметры скорости обучения модели `learning_rate`. Она определяет на сколько обновляются веса в конце каждого прохода."
   ]
  },
  {
   "cell_type": "code",
   "execution_count": 17,
   "metadata": {},
   "outputs": [],
   "source": [
    "def create_model(learn_rate=0.01):\n",
    "    # NN model\n",
    "    model = Sequential()\n",
    "    model.add(Dense(512, input_shape=(X.shape[1], )))\n",
    "    model.add(Activation('relu'))\n",
    "    model.add(Dense(y.shape[1]))\n",
    "    model.add(Activation('softmax'))\n",
    "    # Set loss, metrics, optimizer\n",
    "    model.compile(loss='categorical_crossentropy', \n",
    "                  optimizer=SGD(lr=learn_rate), \n",
    "                  metrics=['accuracy'])\n",
    "    return model\n",
    "\n",
    "# Create model\n",
    "keras_clf = KerasClassifier(\n",
    "    build_fn=create_model, \n",
    "    epochs=5, \n",
    "    batch_size=128, \n",
    "    verbose=0\n",
    ")\n",
    "\n",
    "# Tuning parameters\n",
    "learn_rate = [0.01, 0.1, 0.2, 0.5]\n",
    "\n",
    "# GridSearch parameters\n",
    "param_grid = dict(learn_rate=learn_rate)\n",
    "\n",
    "grid_search = GridSearchCV(\n",
    "    estimator=keras_clf, \n",
    "    param_grid=param_grid, \n",
    "    verbose=2,\n",
    "    n_jobs=4, \n",
    "    cv=3\n",
    ")"
   ]
  },
  {
   "cell_type": "code",
   "execution_count": 18,
   "metadata": {},
   "outputs": [
    {
     "name": "stdout",
     "output_type": "stream",
     "text": [
      "Fitting 3 folds for each of 4 candidates, totalling 12 fits\n"
     ]
    },
    {
     "name": "stderr",
     "output_type": "stream",
     "text": [
      "[Parallel(n_jobs=4)]: Using backend LokyBackend with 4 concurrent workers.\n",
      "[Parallel(n_jobs=4)]: Done  12 out of  12 | elapsed:   57.2s remaining:    0.0s\n",
      "[Parallel(n_jobs=4)]: Done  12 out of  12 | elapsed:   57.2s finished\n"
     ]
    },
    {
     "name": "stdout",
     "output_type": "stream",
     "text": [
      "CPU times: user 51.7 s, sys: 1.98 s, total: 53.7 s\n",
      "Wall time: 1min 14s\n"
     ]
    }
   ],
   "source": [
    "%%time\n",
    "grid_result = grid_search.fit(X, y)"
   ]
  },
  {
   "cell_type": "markdown",
   "metadata": {},
   "source": [
    "### Результаты перекрестной проверки"
   ]
  },
  {
   "cell_type": "code",
   "execution_count": 19,
   "metadata": {},
   "outputs": [
    {
     "name": "stdout",
     "output_type": "stream",
     "text": [
      "Best score: 0.9743 using {'learn_rate': 0.5}\n",
      "\n",
      "Mean: 0.900 Std: 0.004975 with: {'learn_rate': 0.01}\n",
      "Mean: 0.952 Std: 0.002908 with: {'learn_rate': 0.1}\n",
      "Mean: 0.965 Std: 0.001163 with: {'learn_rate': 0.2}\n",
      "Mean: 0.974 Std: 0.001249 with: {'learn_rate': 0.5}\n"
     ]
    }
   ],
   "source": [
    "print(f'Best score: {grid_result.best_score_ :0.4f} using {grid_result.best_params_}\\n')\n",
    "\n",
    "means = grid_result.cv_results_['mean_test_score']\n",
    "stds = grid_result.cv_results_['std_test_score']\n",
    "params = grid_result.cv_results_['params']\n",
    "\n",
    "for m, s, p in zip(means, stds, params):\n",
    "    print(f'Mean: {m :0.3f} Std: {s :0.6f} with: {p}')"
   ]
  },
  {
   "cell_type": "markdown",
   "metadata": {},
   "source": [
    "## Поиск гиперпараметров\n",
    "\n",
    "### GridSearch: Weight Initialization\n",
    "\n",
    "Посмотрим, как с помощью `sklearn` и `keras` найти лучшие параметры инициализации весов модели `weight_initialization`. \n",
    "\n",
    "```python\n",
    "# Tuning parameters\n",
    "init_mode = [\n",
    "    'uniform', \n",
    "    'lecun_uniform', \n",
    "    'normal', \n",
    "    'zero', \n",
    "    'glorot_normal', \n",
    "    'glorot_uniform', \n",
    "    'he_normal', \n",
    "    'he_uniform'\n",
    "]\n",
    "```"
   ]
  },
  {
   "cell_type": "code",
   "execution_count": 20,
   "metadata": {},
   "outputs": [],
   "source": [
    "def create_model(init_mode='uniform'):\n",
    "    # NN model\n",
    "    model = Sequential()\n",
    "    model.add(Dense(512, kernel_initializer=init_mode, input_shape=(X.shape[1], )))\n",
    "    model.add(Activation('relu'))\n",
    "    model.add(Dense(y.shape[1], kernel_initializer=init_mode))\n",
    "    model.add(Activation('softmax'))\n",
    "    # Set loss, metrics, optimizer\n",
    "    model.compile(loss='categorical_crossentropy', \n",
    "                  optimizer=RMSprop(), \n",
    "                  metrics=['accuracy'])\n",
    "    return model\n",
    "\n",
    "# Create model\n",
    "keras_clf = KerasClassifier(\n",
    "    build_fn=create_model, \n",
    "    epochs=5, \n",
    "    batch_size=64, \n",
    "    verbose=0\n",
    ")\n",
    "\n",
    "# Tuning parameters\n",
    "init_mode = [\n",
    "    'uniform',  \n",
    "    'normal', \n",
    "    'zero',\n",
    "    'glorot_uniform', \n",
    "    'he_normal', \n",
    "]\n",
    "\n",
    "# GridSearch parameters\n",
    "param_grid = dict(init_mode=init_mode)\n",
    "\n",
    "grid_search = GridSearchCV(\n",
    "    estimator=keras_clf, \n",
    "    param_grid=param_grid, \n",
    "    verbose=2,\n",
    "    n_jobs=4, \n",
    "    cv=3\n",
    ")"
   ]
  },
  {
   "cell_type": "code",
   "execution_count": 21,
   "metadata": {},
   "outputs": [
    {
     "name": "stdout",
     "output_type": "stream",
     "text": [
      "Fitting 3 folds for each of 5 candidates, totalling 15 fits\n"
     ]
    },
    {
     "name": "stderr",
     "output_type": "stream",
     "text": [
      "[Parallel(n_jobs=4)]: Using backend LokyBackend with 4 concurrent workers.\n",
      "[Parallel(n_jobs=4)]: Done  15 out of  15 | elapsed:  2.4min finished\n"
     ]
    },
    {
     "name": "stdout",
     "output_type": "stream",
     "text": [
      "CPU times: user 1min 29s, sys: 4.97 s, total: 1min 34s\n",
      "Wall time: 2min 49s\n"
     ]
    }
   ],
   "source": [
    "%%time\n",
    "grid_result = grid_search.fit(X, y)"
   ]
  },
  {
   "cell_type": "markdown",
   "metadata": {},
   "source": [
    "### Результаты перекрестной проверки"
   ]
  },
  {
   "cell_type": "code",
   "execution_count": 22,
   "metadata": {},
   "outputs": [
    {
     "name": "stdout",
     "output_type": "stream",
     "text": [
      "Best score: 0.9766 using {'init_mode': 'normal'}\n",
      "\n",
      "Mean: 0.976 Std: 0.000173 with: {'init_mode': 'uniform'}\n",
      "Mean: 0.977 Std: 0.001350 with: {'init_mode': 'normal'}\n",
      "Mean: 0.113 Std: 0.001898 with: {'init_mode': 'zero'}\n",
      "Mean: 0.975 Std: 0.001451 with: {'init_mode': 'glorot_uniform'}\n",
      "Mean: 0.976 Std: 0.001068 with: {'init_mode': 'he_normal'}\n"
     ]
    }
   ],
   "source": [
    "print(f'Best score: {grid_result.best_score_ :0.4f} using {grid_result.best_params_}\\n')\n",
    "\n",
    "means = grid_result.cv_results_['mean_test_score']\n",
    "stds = grid_result.cv_results_['std_test_score']\n",
    "params = grid_result.cv_results_['params']\n",
    "\n",
    "for m, s, p in zip(means, stds, params):\n",
    "    print(f'Mean: {m :0.3f} Std: {s :0.6f} with: {p}')"
   ]
  },
  {
   "cell_type": "markdown",
   "metadata": {},
   "source": [
    "## Поиск гиперпараметров\n",
    "\n",
    "### GridSearch: функция активации\n",
    "\n",
    "Посмотрим, как с помощью `sklearn` и `keras` найти лучшие параметры функции активации `activation`. \n",
    "\n",
    "```python\n",
    "# Tuning parameters\n",
    "activations = [\n",
    "    'softmax', \n",
    "    'softplus', \n",
    "    'softsign', \n",
    "    'relu', \n",
    "    'tanh', \n",
    "    'sigmoid', \n",
    "    'hard_sigmoid', \n",
    "    'linear'\n",
    "]\n",
    "```"
   ]
  },
  {
   "cell_type": "code",
   "execution_count": 23,
   "metadata": {},
   "outputs": [],
   "source": [
    "def create_model(activation='relu'):\n",
    "    # NN model\n",
    "    model = Sequential()\n",
    "    model.add(Dense(512, activation=activation, input_shape=(X.shape[1], )))\n",
    "    model.add(Dense(y.shape[1]))\n",
    "    model.add(Activation('softmax'))\n",
    "    # Set loss, metrics, optimizer\n",
    "    model.compile(loss='categorical_crossentropy', \n",
    "                  optimizer=RMSprop(), \n",
    "                  metrics=['accuracy'])\n",
    "    return model\n",
    "\n",
    "# Create model\n",
    "keras_clf = KerasClassifier(\n",
    "    build_fn=create_model, \n",
    "    epochs=5, \n",
    "    batch_size=64, \n",
    "    verbose=0\n",
    ")\n",
    "\n",
    "# Tuning parameters\n",
    "activation = [ \n",
    "    'relu', \n",
    "    'tanh', \n",
    "    'sigmoid',\n",
    "    'linear'\n",
    "]\n",
    "\n",
    "# GridSearch parameters\n",
    "param_grid = dict(activation=activation)\n",
    "\n",
    "grid_search = GridSearchCV(\n",
    "    estimator=keras_clf, \n",
    "    param_grid=param_grid, \n",
    "    verbose=2,\n",
    "    n_jobs=4, \n",
    "    cv=3\n",
    ")"
   ]
  },
  {
   "cell_type": "code",
   "execution_count": 24,
   "metadata": {},
   "outputs": [
    {
     "name": "stdout",
     "output_type": "stream",
     "text": [
      "Fitting 3 folds for each of 4 candidates, totalling 12 fits\n"
     ]
    },
    {
     "name": "stderr",
     "output_type": "stream",
     "text": [
      "[Parallel(n_jobs=4)]: Using backend LokyBackend with 4 concurrent workers.\n",
      "[Parallel(n_jobs=4)]: Done  12 out of  12 | elapsed:  1.9min remaining:    0.0s\n",
      "[Parallel(n_jobs=4)]: Done  12 out of  12 | elapsed:  1.9min finished\n"
     ]
    },
    {
     "name": "stdout",
     "output_type": "stream",
     "text": [
      "CPU times: user 1min 30s, sys: 4.82 s, total: 1min 35s\n",
      "Wall time: 2min 21s\n"
     ]
    }
   ],
   "source": [
    "%%time\n",
    "grid_result = grid_search.fit(X, y)"
   ]
  },
  {
   "cell_type": "markdown",
   "metadata": {},
   "source": [
    "### Результаты перекрестной проверки"
   ]
  },
  {
   "cell_type": "code",
   "execution_count": 25,
   "metadata": {},
   "outputs": [
    {
     "name": "stdout",
     "output_type": "stream",
     "text": [
      "Best score: 0.9757 using {'activation': 'relu'}\n",
      "\n",
      "Mean: 0.976 Std: 0.000668 with: {'activation': 'relu'}\n",
      "Mean: 0.969 Std: 0.001645 with: {'activation': 'tanh'}\n",
      "Mean: 0.961 Std: 0.000872 with: {'activation': 'sigmoid'}\n",
      "Mean: 0.895 Std: 0.012805 with: {'activation': 'linear'}\n"
     ]
    }
   ],
   "source": [
    "print(f'Best score: {grid_result.best_score_ :0.4f} using {grid_result.best_params_}\\n')\n",
    "\n",
    "means = grid_result.cv_results_['mean_test_score']\n",
    "stds = grid_result.cv_results_['std_test_score']\n",
    "params = grid_result.cv_results_['params']\n",
    "\n",
    "for m, s, p in zip(means, stds, params):\n",
    "    print(f'Mean: {m :0.3f} Std: {s :0.6f} with: {p}')"
   ]
  },
  {
   "cell_type": "markdown",
   "metadata": {},
   "source": [
    "## Поиск гиперпараметров\n",
    "\n",
    "### GridSearch: регуляризация Dropout\n",
    "\n",
    "Посмотрим, как с помощью `sklearn` и `keras` найти лучшие параметры регуляризации с помощью `Dropout`. "
   ]
  },
  {
   "cell_type": "code",
   "execution_count": 26,
   "metadata": {},
   "outputs": [],
   "source": [
    "def create_model(dropout_rate=0.0):\n",
    "    # NN model\n",
    "    model = Sequential()\n",
    "    model.add(Dense(512, activation='relu', input_shape=(X.shape[1], )))\n",
    "    model.add(Dropout(dropout_rate))\n",
    "    model.add(Dense(y.shape[1]))\n",
    "    model.add(Activation('softmax'))\n",
    "    \n",
    "    # Set loss, metrics, optimizer\n",
    "    model.compile(loss='categorical_crossentropy', \n",
    "                  optimizer=RMSprop(), \n",
    "                  metrics=['accuracy'])\n",
    "    return model\n",
    "\n",
    "# Create model\n",
    "keras_clf = KerasClassifier(\n",
    "    build_fn=create_model, \n",
    "    epochs=5, \n",
    "    batch_size=64, \n",
    "    verbose=0\n",
    ")\n",
    "\n",
    "# Tuning parameters\n",
    "dropout_rate = [0.0, 0.2, 0.4, 0.6, 0.8]\n",
    "\n",
    "# GridSearch parameters\n",
    "param_grid = dict(dropout_rate=dropout_rate)\n",
    "\n",
    "grid_search = GridSearchCV(\n",
    "    estimator=keras_clf, \n",
    "    param_grid=param_grid, \n",
    "    verbose=2,\n",
    "    n_jobs=4, \n",
    "    cv=3\n",
    ")"
   ]
  },
  {
   "cell_type": "code",
   "execution_count": 27,
   "metadata": {},
   "outputs": [
    {
     "name": "stdout",
     "output_type": "stream",
     "text": [
      "Fitting 3 folds for each of 5 candidates, totalling 15 fits\n"
     ]
    },
    {
     "name": "stderr",
     "output_type": "stream",
     "text": [
      "[Parallel(n_jobs=4)]: Using backend LokyBackend with 4 concurrent workers.\n",
      "[Parallel(n_jobs=4)]: Done  15 out of  15 | elapsed:  2.5min finished\n"
     ]
    },
    {
     "name": "stdout",
     "output_type": "stream",
     "text": [
      "CPU times: user 1min 37s, sys: 4.68 s, total: 1min 42s\n",
      "Wall time: 3min\n"
     ]
    }
   ],
   "source": [
    "%%time\n",
    "grid_result = grid_search.fit(X, y)"
   ]
  },
  {
   "cell_type": "markdown",
   "metadata": {},
   "source": [
    "### Результаты перекрестной проверки"
   ]
  },
  {
   "cell_type": "code",
   "execution_count": 28,
   "metadata": {},
   "outputs": [
    {
     "name": "stdout",
     "output_type": "stream",
     "text": [
      "Best score: 0.9759 using {'dropout_rate': 0.2}\n",
      "\n",
      "Mean: 0.976 Std: 0.000937 with: {'dropout_rate': 0.0}\n",
      "Mean: 0.976 Std: 0.000622 with: {'dropout_rate': 0.2}\n",
      "Mean: 0.974 Std: 0.001092 with: {'dropout_rate': 0.4}\n",
      "Mean: 0.971 Std: 0.001779 with: {'dropout_rate': 0.6}\n",
      "Mean: 0.962 Std: 0.002625 with: {'dropout_rate': 0.8}\n"
     ]
    }
   ],
   "source": [
    "print(f'Best score: {grid_result.best_score_ :0.4f} using {grid_result.best_params_}\\n')\n",
    "\n",
    "means = grid_result.cv_results_['mean_test_score']\n",
    "stds = grid_result.cv_results_['std_test_score']\n",
    "params = grid_result.cv_results_['params']\n",
    "\n",
    "for m, s, p in zip(means, stds, params):\n",
    "    print(f'Mean: {m :0.3f} Std: {s :0.6f} with: {p}')"
   ]
  },
  {
   "cell_type": "markdown",
   "metadata": {},
   "source": [
    "## Поиск гиперпараметров\n",
    "\n",
    "### GridSearch: количество нейронов скрытого слоя\n",
    "\n",
    "Посмотрим, как с помощью `sklearn` и `keras` найти лучшие параметры количества нейронов в первом скрытом слое. Второй слой остается без изменений, т.к. решается задача классификации по 10 классам (число рукописных цифр)."
   ]
  },
  {
   "cell_type": "code",
   "execution_count": 29,
   "metadata": {},
   "outputs": [],
   "source": [
    "def create_model(neurons=100):\n",
    "    # NN model\n",
    "    model = Sequential()\n",
    "    model.add(Dense(neurons, activation='relu', input_shape=(X.shape[1], )))\n",
    "    model.add(Dense(y.shape[1], activation='softmax'))\n",
    "    \n",
    "    # Set loss, metrics, optimizer\n",
    "    model.compile(loss='categorical_crossentropy', \n",
    "                  optimizer=RMSprop(), \n",
    "                  metrics=['accuracy'])\n",
    "    return model\n",
    "\n",
    "# Create model\n",
    "keras_clf = KerasClassifier(\n",
    "    build_fn=create_model, \n",
    "    epochs=5, \n",
    "    batch_size=64, \n",
    "    verbose=0\n",
    ")\n",
    "\n",
    "# Tuning parameters\n",
    "neurons = [50, 100, 200, 500]\n",
    "\n",
    "# GridSearch parameters\n",
    "param_grid = dict(neurons=neurons)\n",
    "\n",
    "grid_search = GridSearchCV(\n",
    "    estimator=keras_clf, \n",
    "    param_grid=param_grid, \n",
    "    verbose=2,\n",
    "    n_jobs=4, \n",
    "    cv=3\n",
    ")"
   ]
  },
  {
   "cell_type": "code",
   "execution_count": 30,
   "metadata": {},
   "outputs": [
    {
     "name": "stdout",
     "output_type": "stream",
     "text": [
      "Fitting 3 folds for each of 4 candidates, totalling 12 fits\n"
     ]
    },
    {
     "name": "stderr",
     "output_type": "stream",
     "text": [
      "[Parallel(n_jobs=4)]: Using backend LokyBackend with 4 concurrent workers.\n",
      "[Parallel(n_jobs=4)]: Done  12 out of  12 | elapsed:  1.0min remaining:    0.0s\n",
      "[Parallel(n_jobs=4)]: Done  12 out of  12 | elapsed:  1.0min finished\n"
     ]
    },
    {
     "name": "stdout",
     "output_type": "stream",
     "text": [
      "CPU times: user 1min 24s, sys: 4.95 s, total: 1min 29s\n",
      "Wall time: 1min 27s\n"
     ]
    }
   ],
   "source": [
    "%%time\n",
    "grid_result = grid_search.fit(X, y)"
   ]
  },
  {
   "cell_type": "markdown",
   "metadata": {},
   "source": [
    "### Результаты перекрестной проверки"
   ]
  },
  {
   "cell_type": "code",
   "execution_count": 31,
   "metadata": {},
   "outputs": [
    {
     "name": "stdout",
     "output_type": "stream",
     "text": [
      "Best score: 0.9750 using {'neurons': 500}\n",
      "\n",
      "Mean: 0.960 Std: 0.002646 with: {'neurons': 50}\n",
      "Mean: 0.968 Std: 0.002265 with: {'neurons': 100}\n",
      "Mean: 0.970 Std: 0.001601 with: {'neurons': 200}\n",
      "Mean: 0.975 Std: 0.000387 with: {'neurons': 500}\n"
     ]
    }
   ],
   "source": [
    "print(f'Best score: {grid_result.best_score_ :0.4f} using {grid_result.best_params_}\\n')\n",
    "\n",
    "means = grid_result.cv_results_['mean_test_score']\n",
    "stds = grid_result.cv_results_['std_test_score']\n",
    "params = grid_result.cv_results_['params']\n",
    "\n",
    "for m, s, p in zip(means, stds, params):\n",
    "    print(f'Mean: {m :0.3f} Std: {s :0.6f} with: {p}')"
   ]
  },
  {
   "cell_type": "markdown",
   "metadata": {},
   "source": [
    "### Советы по оптимизации гиперпараметров\n",
    "\n",
    "- Перекрестная проверка k-fold: в зависимости от размера датасета и сложности модели можно варьировать параметр `k`. Типичные значения для кросс-валидации `cv = 3, 5, 10`.\n",
    "- Проверка всех результатов: бывают случаи, когда в ходе перекрестной проверки получилось лучшее решение с заведомо плохими параметрами. Внимательно смотрите на значения математического ожидания и разброса, а также времени обучения модели. Иногда лучше выбрать модель, обучающуюся в 10 раз быстрее, но дающую результаты чуть хуже.\n",
    "- При наличии свободных ресурсов обязательно распараллеливайте процессы. \n",
    "- В связи с тем, что глубокие нейронные сети обучаются крайне долго, попробуйте обучать их на датасетах меньшего размера. Это поможет прикинуть вектор развития модели и дальнейшей её оптимизации.\n",
    "- С осторожностью используйте результаты модели для других задач. Скорее всего, правильнее будет обучить сеть заново, чем пользоваться результатами предыдущих изысканий.\n",
    "- Делайте ваши проекты воспроизводимыми. Для этого фиксируйте значения `seed` и `random_state` ваших моделей и генераторов случайных чисел."
   ]
  },
  {
   "cell_type": "markdown",
   "metadata": {},
   "source": [
    "### График функции потерь и точности на каждой эпохе"
   ]
  },
  {
   "cell_type": "code",
   "execution_count": 32,
   "metadata": {},
   "outputs": [
    {
     "name": "stdout",
     "output_type": "stream",
     "text": [
      "Train on 60000 samples, validate on 10000 samples\n",
      "Epoch 1/20\n",
      "60000/60000 [==============================] - 3s 57us/step - loss: 0.2728 - accuracy: 0.9176 - val_loss: 0.1066 - val_accuracy: 0.9656\n",
      "Epoch 2/20\n",
      "60000/60000 [==============================] - 3s 56us/step - loss: 0.1108 - accuracy: 0.9669 - val_loss: 0.0863 - val_accuracy: 0.9746\n",
      "Epoch 3/20\n",
      "60000/60000 [==============================] - 3s 56us/step - loss: 0.0804 - accuracy: 0.9761 - val_loss: 0.0936 - val_accuracy: 0.9730\n",
      "Epoch 4/20\n",
      "60000/60000 [==============================] - 3s 56us/step - loss: 0.0645 - accuracy: 0.9808 - val_loss: 0.0717 - val_accuracy: 0.9798\n",
      "Epoch 5/20\n",
      "60000/60000 [==============================] - 3s 56us/step - loss: 0.0525 - accuracy: 0.9846 - val_loss: 0.0682 - val_accuracy: 0.9824\n",
      "Epoch 6/20\n",
      "60000/60000 [==============================] - 3s 56us/step - loss: 0.0440 - accuracy: 0.9866 - val_loss: 0.0678 - val_accuracy: 0.9825\n",
      "Epoch 7/20\n",
      "60000/60000 [==============================] - 3s 56us/step - loss: 0.0389 - accuracy: 0.9883 - val_loss: 0.0792 - val_accuracy: 0.9808\n",
      "Epoch 8/20\n",
      "60000/60000 [==============================] - 4s 60us/step - loss: 0.0342 - accuracy: 0.9898 - val_loss: 0.0721 - val_accuracy: 0.9835\n",
      "Epoch 9/20\n",
      "60000/60000 [==============================] - 4s 62us/step - loss: 0.0312 - accuracy: 0.9910 - val_loss: 0.0757 - val_accuracy: 0.9834\n",
      "Epoch 10/20\n",
      "60000/60000 [==============================] - 4s 62us/step - loss: 0.0294 - accuracy: 0.9913 - val_loss: 0.0792 - val_accuracy: 0.9840\n",
      "Epoch 11/20\n",
      "60000/60000 [==============================] - 4s 62us/step - loss: 0.0253 - accuracy: 0.9924 - val_loss: 0.0770 - val_accuracy: 0.9838\n",
      "Epoch 12/20\n",
      "60000/60000 [==============================] - 3s 56us/step - loss: 0.0241 - accuracy: 0.9931 - val_loss: 0.0885 - val_accuracy: 0.9831\n",
      "Epoch 13/20\n",
      "60000/60000 [==============================] - 4s 59us/step - loss: 0.0239 - accuracy: 0.9933 - val_loss: 0.0855 - val_accuracy: 0.9840\n",
      "Epoch 14/20\n",
      "60000/60000 [==============================] - 4s 62us/step - loss: 0.0198 - accuracy: 0.9938 - val_loss: 0.0925 - val_accuracy: 0.9827\n",
      "Epoch 15/20\n",
      "60000/60000 [==============================] - 4s 62us/step - loss: 0.0215 - accuracy: 0.9941 - val_loss: 0.0882 - val_accuracy: 0.9836\n",
      "Epoch 16/20\n",
      "60000/60000 [==============================] - 4s 62us/step - loss: 0.0203 - accuracy: 0.9941 - val_loss: 0.0999 - val_accuracy: 0.9829\n",
      "Epoch 17/20\n",
      "60000/60000 [==============================] - 4s 62us/step - loss: 0.0198 - accuracy: 0.9945 - val_loss: 0.1070 - val_accuracy: 0.9828\n",
      "Epoch 18/20\n",
      "60000/60000 [==============================] - 4s 62us/step - loss: 0.0182 - accuracy: 0.9951 - val_loss: 0.1010 - val_accuracy: 0.9846\n",
      "Epoch 19/20\n",
      "60000/60000 [==============================] - 4s 59us/step - loss: 0.0167 - accuracy: 0.9952 - val_loss: 0.1028 - val_accuracy: 0.9843\n",
      "Epoch 20/20\n",
      "60000/60000 [==============================] - 3s 58us/step - loss: 0.0180 - accuracy: 0.9951 - val_loss: 0.1018 - val_accuracy: 0.9852\n"
     ]
    }
   ],
   "source": [
    "# NN model\n",
    "model = Sequential()\n",
    "model.add(Dense(784, activation='relu', input_shape=(X.shape[1], )))\n",
    "model.add(Dropout(0.2))\n",
    "model.add(Dense(100, activation='relu'))\n",
    "model.add(Dropout(0.2))\n",
    "model.add(Dense(y.shape[1]))\n",
    "model.add(Activation('softmax'))\n",
    "\n",
    "# Set loss, metrics, optimizer\n",
    "model.compile(loss='categorical_crossentropy', \n",
    "              optimizer=RMSprop(), \n",
    "              metrics=['accuracy'])\n",
    "\n",
    "hmodel = model.fit(x_train, y_train,\n",
    "                   batch_size=128,\n",
    "                   epochs=20,\n",
    "                   verbose=1,\n",
    "                   workers=4,\n",
    "                   validation_data=(x_test, y_test))"
   ]
  },
  {
   "cell_type": "code",
   "execution_count": 33,
   "metadata": {},
   "outputs": [
    {
     "data": {
      "image/png": "[encoded data removed]",
      "text/plain": [
       "<Figure size 1008x432 with 2 Axes>"
      ]
     },
     "metadata": {
      "needs_background": "light"
     },
     "output_type": "display_data"
    }
   ],
   "source": [
    "# Plot training & validation loss / accuracy values\n",
    "plt.figure('Loss & Accuracy', figsize=(14, 6))\n",
    "plt.subplot(1, 2, 1)\n",
    "plt.plot(hmodel.history['accuracy'], '*-')\n",
    "plt.plot(hmodel.history['val_accuracy'], 'o-')\n",
    "plt.title('Model accuracy')\n",
    "plt.ylabel('Accuracy')\n",
    "plt.xlabel('Epoch')\n",
    "plt.legend(['Train', 'Test'], loc='upper left')\n",
    "plt.grid(True)\n",
    "\n",
    "plt.subplot(1, 2, 2)\n",
    "plt.plot(hmodel.history['loss'], '*-')\n",
    "plt.plot(hmodel.history['val_loss'], 'o-')\n",
    "plt.title('Model loss')\n",
    "plt.ylabel('Loss')\n",
    "plt.xlabel('Epoch')\n",
    "plt.legend(['Train', 'Test'], loc='upper left')\n",
    "plt.grid(True)\n",
    "plt.tight_layout()"
   ]
  },
  {
   "cell_type": "code",
   "execution_count": 34,
   "metadata": {},
   "outputs": [
    {
     "name": "stdout",
     "output_type": "stream",
     "text": [
      "10000/10000 [==============================] - 0s 32us/step\n",
      "Test loss     : 0.10184980343689917,\n",
      "Test accuracy : 0.9851999878883362\n"
     ]
    }
   ],
   "source": [
    "score = model.evaluate(x_test, y_test)\n",
    "\n",
    "print(f'Test loss     : {score[0]},\\nTest accuracy : {score[1]}')"
   ]
  },
  {
   "cell_type": "markdown",
   "metadata": {},
   "source": [
    "### Матрица ошибок"
   ]
  },
  {
   "cell_type": "code",
   "execution_count": 35,
   "metadata": {},
   "outputs": [
    {
     "name": "stdout",
     "output_type": "stream",
     "text": [
      "[[ 972    1    1    0    1    0    3    1    1    0]\n",
      " [   1 1127    2    1    0    0    2    0    2    0]\n",
      " [   1    2 1019    1    1    0    1    4    3    0]\n",
      " [   0    0    4  998    0    1    0    3    2    2]\n",
      " [   0    0    1    0  967    0    5    1    2    6]\n",
      " [   2    0    0    5    1  874    5    1    3    1]\n",
      " [   2    2    0    1    2    4  947    0    0    0]\n",
      " [   1    1    9    0    0    0    0 1010    3    4]\n",
      " [   2    1    3    2    2    2    1    2  954    5]\n",
      " [   3    2    0    2   12    2    0    3    1  984]]\n"
     ]
    }
   ],
   "source": [
    "y_predict = model.predict_classes(x_test)\n",
    "\n",
    "# Confusion matrix\n",
    "conf_digits = confusion_matrix(y_classes, y_predict)\n",
    "print(conf_digits)"
   ]
  },
  {
   "cell_type": "code",
   "execution_count": 36,
   "metadata": {
    "scrolled": false
   },
   "outputs": [
    {
     "data": {
      "image/png": "[encoded data removed]",
      "text/plain": [
       "<Figure size 720x720 with 2 Axes>"
      ]
     },
     "metadata": {
      "needs_background": "light"
     },
     "output_type": "display_data"
    }
   ],
   "source": [
    "plt.figure('Confusion matrix', figsize=(10, 10))\n",
    "sns.heatmap(conf_digits, annot=True, linewidths=.75, fmt=\".0f\", square=True, cmap='Blues_r');\n",
    "plt.xlabel('Predicted label');\n",
    "plt.ylabel('Actual label');\n",
    "plt.title('Accuracy Score: {:.6}'.format(score[1]));\n",
    "plt.tight_layout()"
   ]
  },
  {
   "cell_type": "markdown",
   "metadata": {},
   "source": [
    "### Результат"
   ]
  },
  {
   "cell_type": "code",
   "execution_count": 37,
   "metadata": {},
   "outputs": [
    {
     "name": "stdout",
     "output_type": "stream",
     "text": [
      "              precision    recall  f1-score   support\n",
      "\n",
      "           0       0.99      0.99      0.99       980\n",
      "           1       0.99      0.99      0.99      1135\n",
      "           2       0.98      0.99      0.98      1032\n",
      "           3       0.99      0.99      0.99      1010\n",
      "           4       0.98      0.98      0.98       982\n",
      "           5       0.99      0.98      0.98       892\n",
      "           6       0.98      0.99      0.99       958\n",
      "           7       0.99      0.98      0.98      1028\n",
      "           8       0.98      0.98      0.98       974\n",
      "           9       0.98      0.98      0.98      1009\n",
      "\n",
      "    accuracy                           0.99     10000\n",
      "   macro avg       0.99      0.99      0.99     10000\n",
      "weighted avg       0.99      0.99      0.99     10000\n",
      "\n"
     ]
    }
   ],
   "source": [
    "print(classification_report(y_classes, y_predict))"
   ]
  }
 ],
 "metadata": {
  "kernelspec": {
   "display_name": "Python 3",
   "language": "python",
   "name": "python3"
  },
  "language_info": {
   "codemirror_mode": {
    "name": "ipython",
    "version": 3
   },
   "file_extension": ".py",
   "mimetype": "text/x-python",
   "name": "python",
   "nbconvert_exporter": "python",
   "pygments_lexer": "ipython3",
   "version": "3.6.9"
  }
 },
 "nbformat": 4,
 "nbformat_minor": 4
}
